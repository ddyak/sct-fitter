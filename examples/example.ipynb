{
 "cells": [
  {
   "cell_type": "code",
   "execution_count": 1,
   "metadata": {},
   "outputs": [],
   "source": [
    "import wrapper as fitter"
   ]
  },
  {
   "cell_type": "code",
   "execution_count": 46,
   "metadata": {},
   "outputs": [],
   "source": [
    "import numpy as np\n",
    "import unittest\n",
    "import copy\n",
    "import pathlib\n",
    "\n",
    "UNIT = 1e-3\n",
    "\n",
    "MASS_DICT = {\n",
    "    'K0_S': 497.611 * UNIT,\n",
    "    'pi+': 139.57018 * UNIT,\n",
    "    'D0': 1865.84 * UNIT,\n",
    "    'phi': 1019.461 * UNIT,\n",
    "    # 'pi0' : 134.9766,\n",
    "}\n",
    "\n",
    "\n",
    "def make_hist(data, range=None, nbins=100, density=False):\n",
    "    if range is None:\n",
    "        range = (np.min(data), np.max(data))\n",
    "    dhist, dbins = np.histogram(data, bins=nbins, density=density, range=range)\n",
    "    dbins = 0.5 * (dbins[1:] + dbins[:-1])\n",
    "    norm = np.sum(dhist) / data.shape[0]\n",
    "    errors = np.array([-0.5 + np.sqrt(dhist / norm + 0.25),\n",
    "                       0.5 + np.sqrt(dhist / norm + 0.25)]) * norm\n",
    "    return (dbins, dhist, errors)\n",
    "\n",
    "\n",
    "def gamma(beta):\n",
    "    \"\"\" Lorentz factor \"\"\"\n",
    "    return 1. / np.sqrt(1. - beta**2)\n",
    "\n",
    "\n",
    "def lorentz_boost(lv, bv):\n",
    "    \"\"\" Relativistic transformation \"\"\"\n",
    "    beta = np.linalg.norm(bv)\n",
    "    gam, n = gamma(beta), bv / beta\n",
    "    t, r = lv[:, 0].reshape(-1, 1), lv[:, 1:]\n",
    "    return np.column_stack([gam * t - beta * np.dot(r, n.T),\n",
    "                            r + (gam - 1) * np.dot(r, n.T) * n - gam * t * beta * n])\n",
    "\n",
    "\n",
    "def energy(mass, p3):\n",
    "    \"\"\" Energy from mass and 3-momentum \"\"\"\n",
    "    return np.sqrt(mass**2 + np.sum(p3**2, axis=-1))\n",
    "\n",
    "\n",
    "def ks2pipi(N, pk=None):\n",
    "    \"\"\" Generator of the Ks0 -> pi+ pi- decays \"\"\"\n",
    "    mks, mpi = [MASS_DICT[key] for key in ['K0_S', 'pi+']]\n",
    "    epi = 0.5*mks\n",
    "    ppi = np.sqrt(epi**2 - mpi**2)\n",
    "    costh = 2.*np.random.rand(N) - 1\n",
    "    phi = 2.*np.random.rand(N)*np.pi\n",
    "    sinth = np.sqrt(1. - costh**2)\n",
    "    sinphi, cosphi = np.sin(phi), np.cos(phi)\n",
    "    p3pip = ppi*np.array([sinth*cosphi, sinth*sinphi, costh]).T\n",
    "\n",
    "    if pk is not None:\n",
    "        p4pip, p4pim = [np.empty((p3pip.shape[0], 4)) for _ in range(2)]\n",
    "        p4pip[:, 0], p4pim[:, 0] = epi, epi\n",
    "        p4pip[:, 1:], p4pim[:, 1:] = p3pip, -p3pip\n",
    "        bv = -(pk.reshape(-1, 1) / energy(mks, pk)).T\n",
    "        p4pip, p4pim = [lorentz_boost(x, bv) for x in [p4pip, p4pim]]\n",
    "        return (p4pip[:, 1:], p4pim[:, 1:])\n",
    "\n",
    "    return (p3pip, -p3pip)"
   ]
  },
  {
   "cell_type": "code",
   "execution_count": 47,
   "metadata": {},
   "outputs": [],
   "source": [
    "def measurement_sampler(p3pip, p3pim, cov):\n",
    "    \"\"\" Samples measurement error \"\"\"\n",
    "    assert cov.shape == (3, 3)\n",
    "    N = p3pip.shape[0]\n",
    "    dp = np.random.multivariate_normal([0, 0, 0], cov, 2*N)\n",
    "    p3pip += dp[:N]\n",
    "    p3pim += dp[N:]\n",
    "    return (p3pip, p3pim)\n",
    "\n",
    "def generate(N, cov, ptot=None):\n",
    "    \"\"\" Generates N events for a given covariance matrix \"\"\"\n",
    "    p3pip, p3pim = ks2pipi(N, ptot)\n",
    "    return (measurement_sampler(copy.deepcopy(p3pip), copy.deepcopy(p3pim), cov), p3pip, p3pim)"
   ]
  },
  {
   "cell_type": "code",
   "execution_count": 48,
   "metadata": {},
   "outputs": [],
   "source": [
    "cov = (np.diag([3, 3, 5]) * 1e-3) ** 2"
   ]
  },
  {
   "cell_type": "code",
   "execution_count": 49,
   "metadata": {},
   "outputs": [],
   "source": [
    "def generate_decay(cov, ptot=None):\n",
    "    (p3pip, p3pim), p3pip_mc, p3pim_mc = generate(1, cov, ptot)\n",
    "    return (p3pip[0], p3pim[0]), p3pip_mc[0], p3pim_mc[0]"
   ]
  },
  {
   "cell_type": "code",
   "execution_count": 80,
   "metadata": {},
   "outputs": [],
   "source": [
    "# pip\n",
    "mom_fit = []\n",
    "mom_init = []\n",
    "mom_mc = []\n",
    "chis = []\n",
    "\n",
    "EVENTS = 10000\n",
    "\n",
    "for i in range(EVENTS):\n",
    "    (p3pip, p3pim), p3pip_mc, p3pim_mc = generate_decay(cov)\n",
    "    pip = fitter.Particle(211, momentum=p3pip)\n",
    "    pim = fitter.Particle(-211, momentum=p3pim)\n",
    "    kaon = fitter.Particle(311, daughters=[pip, pim])\n",
    "    chi = kaon.fit()\n",
    "    \n",
    "    mom_mc.append(p3pip_mc)\n",
    "    mom_init.append(p3pip)\n",
    "    mom_fit.append(pip.momentum())\n",
    "    chis.append(chi)"
   ]
  },
  {
   "cell_type": "code",
   "execution_count": 81,
   "metadata": {},
   "outputs": [],
   "source": [
    "mom_fit = np.array(mom_fit)\n",
    "mom_init = np.array(mom_init)\n",
    "mom_mc = np.array(mom_mc)"
   ]
  },
  {
   "cell_type": "code",
   "execution_count": 97,
   "metadata": {},
   "outputs": [
    {
     "data": {
      "text/plain": [
       "<matplotlib.legend.Legend at 0x7efdb31139d0>"
      ]
     },
     "execution_count": 97,
     "metadata": {},
     "output_type": "execute_result"
    },
    {
     "data": {
      "image/png": "[encoded data removed]",
      "text/plain": [
       "<Figure size 432x288 with 1 Axes>"
      ]
     },
     "metadata": {
      "needs_background": "light"
     },
     "output_type": "display_data"
    }
   ],
   "source": [
    "import matplotlib.pyplot as plt\n",
    "\n",
    "\n",
    "plt.hist([mom_fit[:, 0] - mom_mc[:, 0], \n",
    "          mom_init[:, 0] - mom_mc[:, 0]], \n",
    "            bins=100, histtype='step', label=['fit', 'init']);\n",
    "plt.legend()"
   ]
  },
  {
   "cell_type": "code",
   "execution_count": null,
   "metadata": {},
   "outputs": [],
   "source": []
  }
 ],
 "metadata": {
  "kernelspec": {
   "display_name": "Python 3",
   "language": "python",
   "name": "python3"
  },
  "language_info": {
   "codemirror_mode": {
    "name": "ipython",
    "version": 3
   },
   "file_extension": ".py",
   "mimetype": "text/x-python",
   "name": "python",
   "nbconvert_exporter": "python",
   "pygments_lexer": "ipython3",
   "version": "3.8.2"
  }
 },
 "nbformat": 4,
 "nbformat_minor": 4
}
