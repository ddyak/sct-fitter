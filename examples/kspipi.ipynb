{
 "cells": [
  {
   "cell_type": "markdown",
   "metadata": {},
   "source": [
    "## Reconstruction momentum model\n",
    "\n",
    "In this section we will work with simple model, which consist only momentum final particles. Also, we will reconstruct only momentum for internal particle. Let's start with example, consider decay $K_S \\to \\pi^+\\pi^-$ with **mass** and **kinematic** constraints."
   ]
  },
  {
   "cell_type": "code",
   "execution_count": 1,
   "metadata": {},
   "outputs": [],
   "source": [
    "import sys\n",
    "sys.path.append(\"../generators/sct-gen\")\n",
    "sys.path.append(\"../wrapper\")\n",
    "\n",
    "import evtgen\n",
    "\n",
    "import wrapper as fitter"
   ]
  },
  {
   "cell_type": "code",
   "execution_count": 2,
   "metadata": {},
   "outputs": [],
   "source": [
    "import numpy as np\n",
    "import matplotlib.pyplot as plt"
   ]
  },
  {
   "cell_type": "code",
   "execution_count": 3,
   "metadata": {},
   "outputs": [],
   "source": [
    "cov = (np.diag([3, 3, 5]) * 1e-3) ** 2\n",
    "\n",
    "mom_fit = []\n",
    "mom_init = []\n",
    "mom_mc = []\n",
    "chis = []\n",
    "\n",
    "EVENTS = 10000\n",
    "\n",
    "for i in range(EVENTS):\n",
    "    (p3pip, p3pim), p3pip_mc, p3pim_mc = evtgen.generate_decay(cov)\n",
    "    \n",
    "    ######### C++ code\n",
    "    pip = fitter.Particle( 211, momentum=p3pip, cov=cov)\n",
    "    pim = fitter.Particle(-211, momentum=p3pim, cov=cov)\n",
    "    kaon = fitter.Particle(311, daughters=[pip, pim])\n",
    "    chi = kaon.fit()\n",
    "    #########\n",
    "    \n",
    "    mom_mc.append(p3pip_mc)\n",
    "    mom_init.append(p3pip)\n",
    "    mom_fit.append(pip.momentum())\n",
    "    chis.append(chi)\n",
    "    \n",
    "mom_fit = np.array(mom_fit)\n",
    "mom_init = np.array(mom_init)\n",
    "mom_mc = np.array(mom_mc)\n",
    "chis = np.array(chis)"
   ]
  },
  {
   "cell_type": "code",
   "execution_count": 4,
   "metadata": {},
   "outputs": [
    {
     "data": {
      "text/plain": [
       "<matplotlib.legend.Legend at 0x7f09da64ea00>"
      ]
     },
     "execution_count": 4,
     "metadata": {},
     "output_type": "execute_result"
    },
    {
     "data": {
      "image/png": "[encoded data removed]",
      "text/plain": [
       "<Figure size 432x288 with 1 Axes>"
      ]
     },
     "metadata": {
      "needs_background": "light"
     },
     "output_type": "display_data"
    }
   ],
   "source": [
    "plt.hist([mom_fit[:, 2] - mom_mc[:, 2], \n",
    "          mom_init[:, 2] - mom_mc[:, 2]], \n",
    "            bins=100, histtype='step', label=['fit', 'init']);\n",
    "plt.legend()"
   ]
  },
  {
   "cell_type": "code",
   "execution_count": 5,
   "metadata": {},
   "outputs": [
    {
     "data": {
      "image/png": "[encoded data removed]",
      "text/plain": [
       "<Figure size 432x288 with 1 Axes>"
      ]
     },
     "metadata": {
      "needs_background": "light"
     },
     "output_type": "display_data"
    }
   ],
   "source": [
    "import scipy.stats as stats\n",
    "\n",
    "x = np.linspace(0, 5)\n",
    "plt.plot(x, stats.chi2.pdf(x, 1), 'r', label=r'$\\chi^2(1)$')\n",
    "plt.hist(chis, bins=30, range=(0, 5), density=True, label='fit');\n",
    "plt.legend();"
   ]
  },
  {
   "cell_type": "markdown",
   "metadata": {},
   "source": [
    "## Fit decay using `decay-gen`\n",
    "\n"
   ]
  },
  {
   "cell_type": "code",
   "execution_count": 6,
   "metadata": {},
   "outputs": [
    {
     "name": "stderr",
     "output_type": "stream",
     "text": [
      "/home/ddyak/.local/lib/python3.8/site-packages/jax/lib/xla_bridge.py:130: UserWarning: No GPU/TPU found, falling back to CPU.\n",
      "  warnings.warn('No GPU/TPU found, falling back to CPU.')\n"
     ]
    }
   ],
   "source": [
    "sys.path.append(\"../generators/decay-gen\")\n",
    "\n",
    "import jax.random as rjax\n",
    "import helixgen.resolution as res\n",
    "from helixgen.phspdecay import generate"
   ]
  },
  {
   "cell_type": "code",
   "execution_count": 7,
   "metadata": {},
   "outputs": [],
   "source": [
    "rng = rjax.PRNGKey(seed=1)"
   ]
  },
  {
   "cell_type": "code",
   "execution_count": 8,
   "metadata": {},
   "outputs": [],
   "source": [
    "smearer = lambda rng, gp: res.apply_resolution(\n",
    "    rng, gp,\n",
    "    res.apply_resolution_neutral_cartesian,\n",
    "    res.apply_resolution_charged_cartesian)"
   ]
  },
  {
   "cell_type": "code",
   "execution_count": 9,
   "metadata": {},
   "outputs": [],
   "source": [
    "weights, genpcls = generate(rng, '', 10000, smearer)"
   ]
  },
  {
   "cell_type": "code",
   "execution_count": 10,
   "metadata": {},
   "outputs": [
    {
     "data": {
      "text/plain": [
       "dict_keys(['pi+_Ks0', 'pi-_Ks0', 'Ks0', 'pi+', 'pi-'])"
      ]
     },
     "execution_count": 10,
     "metadata": {},
     "output_type": "execute_result"
    }
   ],
   "source": [
    "genpcls.keys()"
   ]
  },
  {
   "cell_type": "code",
   "execution_count": 11,
   "metadata": {},
   "outputs": [
    {
     "data": {
      "text/plain": [
       "dict_keys(['pcl', 'mom', 'pos', 'meas_pos', 'meas_mom', 'poscov', 'momcov', 'meas_hel', 'hel'])"
      ]
     },
     "execution_count": 11,
     "metadata": {},
     "output_type": "execute_result"
    }
   ],
   "source": [
    "genpcls['pi+_Ks0'].keys()"
   ]
  },
  {
   "cell_type": "code",
   "execution_count": 12,
   "metadata": {},
   "outputs": [
    {
     "data": {
      "image/png": "[encoded data removed]",
      "text/plain": [
       "<Figure size 432x288 with 1 Axes>"
      ]
     },
     "metadata": {
      "needs_background": "light"
     },
     "output_type": "display_data"
    }
   ],
   "source": [
    "plt.hist((genpcls['pi+_Ks0']['mom'].px), histtype='step', bins=100);"
   ]
  },
  {
   "cell_type": "code",
   "execution_count": 13,
   "metadata": {},
   "outputs": [
    {
     "data": {
      "text/plain": [
       "dict_keys(['pcl', 'mom', 'pos', 'meas_pos', 'meas_mom', 'poscov', 'momcov', 'meas_hel', 'hel'])"
      ]
     },
     "execution_count": 13,
     "metadata": {},
     "output_type": "execute_result"
    }
   ],
   "source": [
    "genpcls['pi+'].keys()"
   ]
  },
  {
   "cell_type": "code",
   "execution_count": 14,
   "metadata": {},
   "outputs": [],
   "source": [
    "chis = []\n",
    "\n",
    "pip_ks_m = genpcls['pi+_Ks0']['meas_mom'].as_array / 1e3\n",
    "pim_ks_m = genpcls['pi-_Ks0']['meas_mom'].as_array / 1e3\n",
    "pip_cov = genpcls['pi+_Ks0']['momcov'] / 1e6\n",
    "pim_cov = genpcls['pi-_Ks0']['momcov'] / 1e6\n",
    "\n",
    "for i in range(1000):\n",
    "    pip_ks = fitter.Particle(211, momentum=pip_ks_m[i], cov=pip_cov[i])\n",
    "    pim_ks = fitter.Particle(-211, momentum=pim_ks_m[i], cov=pim_cov[i])\n",
    "    ks = fitter.Particle(311, daughters=[pip_ks, pim_ks])\n",
    "\n",
    "    chi = ks.fit()\n",
    "    chis.append(chi)"
   ]
  },
  {
   "cell_type": "code",
   "execution_count": 15,
   "metadata": {},
   "outputs": [
    {
     "data": {
      "image/png": "[encoded data removed]",
      "text/plain": [
       "<Figure size 432x288 with 1 Axes>"
      ]
     },
     "metadata": {
      "needs_background": "light"
     },
     "output_type": "display_data"
    }
   ],
   "source": [
    "x = np.linspace(0, 2)\n",
    "plt.plot(x, stats.chi2.pdf(x, 1), 'r', label=r'$\\chi^2(1)$')\n",
    "plt.hist(chis, bins=30, range=(0, 2), density=True, label='fit');\n",
    "plt.legend();"
   ]
  },
  {
   "cell_type": "code",
   "execution_count": null,
   "metadata": {},
   "outputs": [],
   "source": []
  },
  {
   "cell_type": "code",
   "execution_count": null,
   "metadata": {},
   "outputs": [],
   "source": []
  }
 ],
 "metadata": {
  "kernelspec": {
   "display_name": "Python 3",
   "language": "python",
   "name": "python3"
  },
  "language_info": {
   "codemirror_mode": {
    "name": "ipython",
    "version": 3
   },
   "file_extension": ".py",
   "mimetype": "text/x-python",
   "name": "python",
   "nbconvert_exporter": "python",
   "pygments_lexer": "ipython3",
   "version": "3.8.2"
  }
 },
 "nbformat": 4,
 "nbformat_minor": 4
}
