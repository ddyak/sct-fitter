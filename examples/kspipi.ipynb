{
 "cells": [
  {
   "cell_type": "markdown",
   "metadata": {},
   "source": [
    "## Reconstruction momentum model\n",
    "\n",
    "In this section we will work with simple model, which consist only momentum final particles. Also, we will reconstruct only momentum for internal particle. Let's start with example, consider decay $K_S \\to \\pi^+\\pi^-$ with **mass** and **kinematic** constraints."
   ]
  },
  {
   "cell_type": "code",
   "execution_count": 1,
   "metadata": {},
   "outputs": [],
   "source": [
    "import sys\n",
    "sys.path.append(\"../generators/sct-gen\")\n",
    "sys.path.append(\"../wrapper\")\n",
    "\n",
    "import evtgen\n",
    "\n",
    "import wrapper as fitter"
   ]
  },
  {
   "cell_type": "code",
   "execution_count": 2,
   "metadata": {},
   "outputs": [],
   "source": [
    "import numpy as np\n",
    "import matplotlib.pyplot as plt"
   ]
  },
  {
   "cell_type": "code",
   "execution_count": 3,
   "metadata": {},
   "outputs": [],
   "source": [
    "cov = (np.diag([3, 3, 5]) * 1e-3) ** 2\n",
    "\n",
    "mom_fit = []\n",
    "mom_init = []\n",
    "mom_mc = []\n",
    "chis = []\n",
    "\n",
    "EVENTS = 10000\n",
    "\n",
    "for i in range(EVENTS):\n",
    "    (p3pip, p3pim), p3pip_mc, p3pim_mc = evtgen.generate_decay(cov)\n",
    "    \n",
    "    ######### C++ code\n",
    "    pip = fitter.Particle(211, momentum=p3pip)\n",
    "    pim = fitter.Particle(-211, momentum=p3pim)\n",
    "    kaon = fitter.Particle(311, daughters=[pip, pim])\n",
    "    chi = kaon.fit()\n",
    "    #########\n",
    "    \n",
    "    mom_mc.append(p3pip_mc)\n",
    "    mom_init.append(p3pip)\n",
    "    mom_fit.append(pip.momentum())\n",
    "    chis.append(chi)\n",
    "    \n",
    "mom_fit = np.array(mom_fit)\n",
    "mom_init = np.array(mom_init)\n",
    "mom_mc = np.array(mom_mc)\n",
    "chis = np.array(chis)"
   ]
  },
  {
   "cell_type": "code",
   "execution_count": 4,
   "metadata": {},
   "outputs": [
    {
     "data": {
      "text/plain": [
       "<matplotlib.legend.Legend at 0x7fec9bc1de20>"
      ]
     },
     "execution_count": 4,
     "metadata": {},
     "output_type": "execute_result"
    },
    {
     "data": {
      "image/png": "[encoded data removed]",
      "text/plain": [
       "<Figure size 432x288 with 1 Axes>"
      ]
     },
     "metadata": {
      "needs_background": "light"
     },
     "output_type": "display_data"
    }
   ],
   "source": [
    "plt.hist([mom_fit[:, 2] - mom_mc[:, 2], \n",
    "          mom_init[:, 2] - mom_mc[:, 2]], \n",
    "            bins=100, histtype='step', label=['fit', 'init']);\n",
    "plt.legend()"
   ]
  },
  {
   "cell_type": "code",
   "execution_count": 5,
   "metadata": {},
   "outputs": [
    {
     "data": {
      "image/png": "[encoded data removed]",
      "text/plain": [
       "<Figure size 432x288 with 1 Axes>"
      ]
     },
     "metadata": {
      "needs_background": "light"
     },
     "output_type": "display_data"
    }
   ],
   "source": [
    "import scipy.stats as stats\n",
    "\n",
    "x = np.linspace(0, 5)\n",
    "plt.plot(x, stats.chi2.pdf(x, 1), 'r', label=r'$\\chi^2(1)$')\n",
    "plt.hist(chis, bins=30, range=(0, 5), density=True, label='fit');\n",
    "plt.legend();"
   ]
  },
  {
   "cell_type": "markdown",
   "metadata": {},
   "source": [
    "## Full model (without tracks and clusters)\n",
    "\n",
    "Here we will use model, as if we have a detector of impulses and coordinates directly. "
   ]
  },
  {
   "cell_type": "code",
   "execution_count": 7,
   "metadata": {},
   "outputs": [],
   "source": [
    "sys.path.append(\"../generators/decay-gen\")\n",
    "\n",
    "import jax.random as rjax\n",
    "from helixgen.phspdecay import generate"
   ]
  },
  {
   "cell_type": "code",
   "execution_count": 8,
   "metadata": {},
   "outputs": [],
   "source": [
    "rng = rjax.PRNGKey(seed=1)"
   ]
  },
  {
   "cell_type": "code",
   "execution_count": 9,
   "metadata": {},
   "outputs": [],
   "source": [
    "weights, genpcls = generate(rng, '', 10000)"
   ]
  },
  {
   "cell_type": "code",
   "execution_count": 10,
   "metadata": {},
   "outputs": [
    {
     "data": {
      "text/plain": [
       "DeviceArray([0.0526589 , 0.09208916, 0.08424288, 0.06444979, 0.0519869 ,\n",
       "             0.08653932, 0.08643164, 0.09028433, 0.0928768 , 0.08321844],            dtype=float32)"
      ]
     },
     "execution_count": 10,
     "metadata": {},
     "output_type": "execute_result"
    }
   ],
   "source": [
    "r_ks = genpcls['Ks0']['pos']"
   ]
  },
  {
   "cell_type": "code",
   "execution_count": null,
   "metadata": {},
   "outputs": [],
   "source": []
  }
 ],
 "metadata": {
  "kernelspec": {
   "display_name": "Python 3",
   "language": "python",
   "name": "python3"
  },
  "language_info": {
   "codemirror_mode": {
    "name": "ipython",
    "version": 3
   },
   "file_extension": ".py",
   "mimetype": "text/x-python",
   "name": "python",
   "nbconvert_exporter": "python",
   "pygments_lexer": "ipython3",
   "version": "3.8.2"
  }
 },
 "nbformat": 4,
 "nbformat_minor": 4
}
